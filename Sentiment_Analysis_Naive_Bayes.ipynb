{
  "nbformat": 4,
  "nbformat_minor": 0,
  "metadata": {
    "colab": {
      "provenance": []
    },
    "kernelspec": {
      "name": "python3",
      "display_name": "Python 3"
    },
    "language_info": {
      "name": "python"
    }
  },
  "cells": [
    {
      "cell_type": "markdown",
      "source": [
        "This project analyzes public opinion about the 'Makan Bergizi Gratis' program, a free nutritious meal initiative provided by Indonesian government, by leveraging sentiment analysis on X (formerly Twitter).\n",
        "\n",
        "Data training source: https://github.com/rizalespe/Dataset-Sentimen-Analisis-Bahasa-Indonesia"
      ],
      "metadata": {
        "id": "JCQ4LcAOW8ry"
      }
    },
    {
      "cell_type": "code",
      "execution_count": null,
      "metadata": {
        "id": "PGJDuTAbexba"
      },
      "outputs": [],
      "source": [
        "import pandas as pd\n",
        "\n",
        "tweet_tv = pd.read_csv('dataset_tweet_sentimen_tayangan_tv.csv', delimiter=',')\n",
        "tweet_provider = pd.read_csv('dataset_tweet_sentiment_cellular_service_provider.csv', delimiter=',')\n",
        "tweet_film = pd.read_csv('dataset_tweet_sentiment_opini_film.csv', delimiter=',')\n",
        "tweet_election = pd.read_csv('dataset_tweet_sentiment_pilkada_DKI_2017.csv', delimiter=',')"
      ]
    },
    {
      "cell_type": "code",
      "source": [
        "print(tweet_tv.head())"
      ],
      "metadata": {
        "colab": {
          "base_uri": "https://localhost:8080/"
        },
        "id": "4Lq5aNnwgk8I",
        "outputId": "61cbb1e5-d5eb-43f2-bdcc-aa3ac95b7c12"
      },
      "execution_count": null,
      "outputs": [
        {
          "output_type": "stream",
          "name": "stdout",
          "text": [
            "   Id Sentiment           Acara TV  Jumlah Retweet  \\\n",
            "0   1  positive  HitamPutihTransTV              12   \n",
            "1   2  positive  HitamPutihTransTV               6   \n",
            "2   3  positive  HitamPutihTransTV               9   \n",
            "3   4  positive  HitamPutihTransTV               2   \n",
            "4   5  positive  HitamPutihTransTV               1   \n",
            "\n",
            "                                          Text Tweet  \n",
            "0  Undang @N_ShaniJKT48 ke hitamputih, pemenang S...  \n",
            "1  Selamat berbuka puasa Semoga amal ibadah hari ...  \n",
            "2  Ada nih di trans7 hitam putih, dia dpt penghar...  \n",
            "3        selamat ya mas @adietaufan masuk hitamputih  \n",
            "4                  Asiknya nonton Hitam Putih Trans7  \n"
          ]
        }
      ]
    },
    {
      "cell_type": "code",
      "source": [
        "#tweet_tv = tweet_tv.drop('Acara TV', axis=1)\n",
        "#tweet_tv = tweet_tv.drop('Jumlah Retweet', axis=1)\n",
        "\n",
        "tweet_tv = tweet_tv.reindex(columns=['Id', 'Text Tweet', 'Sentiment'])\n",
        "print(tweet_tv.head())"
      ],
      "metadata": {
        "colab": {
          "base_uri": "https://localhost:8080/"
        },
        "id": "PTkMa9oQlEQO",
        "outputId": "6a3cd40b-b0c2-4f84-ead5-4a6a05f83cb5"
      },
      "execution_count": null,
      "outputs": [
        {
          "output_type": "stream",
          "name": "stdout",
          "text": [
            "   Id                                         Text Tweet Sentiment\n",
            "0   1  Undang @N_ShaniJKT48 ke hitamputih, pemenang S...  positive\n",
            "1   2  Selamat berbuka puasa Semoga amal ibadah hari ...  positive\n",
            "2   3  Ada nih di trans7 hitam putih, dia dpt penghar...  positive\n",
            "3   4        selamat ya mas @adietaufan masuk hitamputih  positive\n",
            "4   5                  Asiknya nonton Hitam Putih Trans7  positive\n"
          ]
        }
      ]
    },
    {
      "cell_type": "code",
      "source": [
        "print(tweet_election.head())"
      ],
      "metadata": {
        "colab": {
          "base_uri": "https://localhost:8080/"
        },
        "id": "ZKPdmSbSmrB6",
        "outputId": "69d393c7-3d5c-4b03-a506-a8e09db35eb6"
      },
      "execution_count": null,
      "outputs": [
        {
          "output_type": "stream",
          "name": "stdout",
          "text": [
            "   Id Sentiment Pasangan Calon  \\\n",
            "0   1  negative     Agus-Sylvi   \n",
            "1   2  negative     Agus-Sylvi   \n",
            "2   3  negative     Agus-Sylvi   \n",
            "3   4  negative     Agus-Sylvi   \n",
            "4   5  negative     Agus-Sylvi   \n",
            "\n",
            "                                          Text Tweet  \n",
            "0  Banyak akun kloning seolah2 pendukung #agussil...  \n",
            "1  #agussilvy bicara apa kasihan yaa...lap itu ai...  \n",
            "2  Kalau aku sih gak nunggu hasil akhir QC tp lag...  \n",
            "3  Kasian oh kasian dengan peluru 1milyar untuk t...  \n",
            "4  Maaf ya pendukung #AgusSilvy..hayo dukung #Ani...  \n"
          ]
        }
      ]
    },
    {
      "cell_type": "code",
      "source": [
        "tweet_election = tweet_election.drop('Pasangan Calon', axis=1)\n",
        "tweet_election = tweet_election.reindex(columns=['Id', 'Text Tweet', 'Sentiment'])\n",
        "print(tweet_tv.head())"
      ],
      "metadata": {
        "colab": {
          "base_uri": "https://localhost:8080/"
        },
        "id": "y4qvtsENsPPD",
        "outputId": "2a91ac88-6a61-4185-e275-ed5e0e667d0d"
      },
      "execution_count": null,
      "outputs": [
        {
          "output_type": "stream",
          "name": "stdout",
          "text": [
            "   Id                                         Text Tweet Sentiment\n",
            "0   1  Undang @N_ShaniJKT48 ke hitamputih, pemenang S...  positive\n",
            "1   2  Selamat berbuka puasa Semoga amal ibadah hari ...  positive\n",
            "2   3  Ada nih di trans7 hitam putih, dia dpt penghar...  positive\n",
            "3   4        selamat ya mas @adietaufan masuk hitamputih  positive\n",
            "4   5                  Asiknya nonton Hitam Putih Trans7  positive\n"
          ]
        }
      ]
    },
    {
      "cell_type": "code",
      "source": [
        "tweet_provider = tweet_provider.reindex(columns=['Id', 'Text Tweet', 'Sentiment'])\n",
        "print(tweet_provider.head())"
      ],
      "metadata": {
        "colab": {
          "base_uri": "https://localhost:8080/"
        },
        "id": "Q3lRvZ0zsbcr",
        "outputId": "79574a27-8848-4824-8972-4b3a9d0a36ed"
      },
      "execution_count": null,
      "outputs": [
        {
          "output_type": "stream",
          "name": "stdout",
          "text": [
            "   Id                                         Text Tweet Sentiment\n",
            "0   1  <USER_MENTION> #BOIKOT_<PROVIDER_NAME> Gunakan...  positive\n",
            "1   2  Saktinya balik lagi, alhamdulillah :v <PROVIDE...  positive\n",
            "2   3  Selamat pagi <PROVIDER_NAME>  bisa bantu kenap...  negative\n",
            "3   4  Dear <PROVIDER_NAME> akhir2 ini jaringan data ...  negative\n",
            "4   5            Selamat malam PENDUSTA <PROVIDER_NAME>   negative\n"
          ]
        }
      ]
    },
    {
      "cell_type": "code",
      "source": [
        "tweet_film = tweet_film.reindex(columns=['Id', 'Text Tweet', 'Sentiment'])\n",
        "print(tweet_film.head())"
      ],
      "metadata": {
        "colab": {
          "base_uri": "https://localhost:8080/"
        },
        "id": "DmOPoHlFst8h",
        "outputId": "7cd6d1bc-507f-48bf-c9fd-62c87cbb4f1a"
      },
      "execution_count": null,
      "outputs": [
        {
          "output_type": "stream",
          "name": "stdout",
          "text": [
            "   Id                                         Text Tweet Sentiment\n",
            "0   1  Jelek filmnya... apalagi si ernest gak mutu bg...  negative\n",
            "1   2  Film king Arthur ini film paling jelek dari se...  negative\n",
            "2   3  @beexkuanlin Sepanjang film gwa berkata kasar ...  negative\n",
            "3   4  Ane ga suka fast and furious..menurutku kok je...  negative\n",
            "4   5  @baekhyun36 kan gua ga tau film nya, lu bilang...  negative\n"
          ]
        }
      ]
    },
    {
      "cell_type": "code",
      "source": [
        "data_list = [tweet_tv, tweet_provider, tweet_film, tweet_election]\n",
        "data_tweets = pd.concat(data_list)\n",
        "print(data_tweets.tail())"
      ],
      "metadata": {
        "colab": {
          "base_uri": "https://localhost:8080/"
        },
        "id": "Wwb4BS3AsvJm",
        "outputId": "c5d0832b-bef1-4f45-dd17-0e0df544a2a2"
      },
      "execution_count": null,
      "outputs": [
        {
          "output_type": "stream",
          "name": "stdout",
          "text": [
            "      Id                                         Text Tweet Sentiment\n",
            "895  896  Kali saja bpk @aniesbaswedan @sandiuno lihat, ...  positive\n",
            "896  897  Kita harus dapat merangkul semua orang tanpa b...  positive\n",
            "897  898  Ini jagoanku dibidang digital <Smiling Face Wi...  positive\n",
            "898  899               #PesanBijak #OkeOce #GubernurGu3 ...  positive\n",
            "899  900  Sandiaga: Bangun Rumah DP 0% Lebih Simpel Diba...  positive\n"
          ]
        }
      ]
    },
    {
      "cell_type": "markdown",
      "source": [
        "**Pre-processing**"
      ],
      "metadata": {
        "id": "6WI05Rox624c"
      }
    },
    {
      "cell_type": "code",
      "source": [
        "import re\n",
        "\n",
        "def clean_tweet(tweet):\n",
        "    tweet = re.sub(r\"http\\S+|www\\S+|https\\S+\", '', tweet, flags=re.MULTILINE)  # Remove URLs\n",
        "    tweet = re.sub(r'\\@\\w+|\\#', '', tweet)  # Remove mentions and hashtags\n",
        "    tweet = re.sub(r'[^\\w\\s]', '', tweet)  # Remove special characters\n",
        "    tweet = tweet.lower()  # Convert to lowercase\n",
        "    return tweet\n"
      ],
      "metadata": {
        "id": "XEt5jr0tyRct"
      },
      "execution_count": null,
      "outputs": []
    },
    {
      "cell_type": "code",
      "source": [
        "# Load custom stopwords from CSV\n",
        "stopwords_df = pd.read_csv(\"stopword.csv\")\n",
        "# Assuming the first column contains the stopwords and it is the index\n",
        "custom_stopwords = stopwords_df.index.tolist() # Use index to get the stopwords"
      ],
      "metadata": {
        "id": "-DJP1oiw3RSf"
      },
      "execution_count": null,
      "outputs": []
    },
    {
      "cell_type": "code",
      "source": [
        "import nltk\n",
        "from nltk.tokenize import word_tokenize\n",
        "nltk.download('punkt_tab')  # Download tokenizer\n",
        "\n",
        "def clean_and_remove_stopwords(text, stopwords):\n",
        "    # Remove special characters and convert to lowercase\n",
        "    text = re.sub(r\"http\\S+|www\\S+|https\\S+\", '', text)  # Remove URLs\n",
        "    text = re.sub(r'\\@\\w+|\\#', '', text)  # Remove mentions and hashtags\n",
        "    text = re.sub(r'[^\\w\\s]', '', text)  # Remove punctuation\n",
        "    text = text.lower()\n",
        "\n",
        "    # Tokenize and remove stopwords\n",
        "    words = word_tokenize(text)\n",
        "    filtered_words = [word for word in words if word not in stopwords]\n",
        "    return \" \".join(filtered_words)\n"
      ],
      "metadata": {
        "colab": {
          "base_uri": "https://localhost:8080/"
        },
        "id": "vqvOvL103UV_",
        "outputId": "9f795d80-3289-487b-d751-3a8a26268e32"
      },
      "execution_count": null,
      "outputs": [
        {
          "output_type": "stream",
          "name": "stderr",
          "text": [
            "[nltk_data] Downloading package punkt_tab to /root/nltk_data...\n",
            "[nltk_data]   Unzipping tokenizers/punkt_tab.zip.\n"
          ]
        }
      ]
    },
    {
      "cell_type": "code",
      "source": [
        "data_tweets[\"Cleaned_Tweet\"] = data_tweets[\"Text Tweet\"].apply(\n",
        "    lambda x: clean_and_remove_stopwords(x, custom_stopwords)\n",
        ")\n",
        "\n",
        "data_tweets.to_csv(\"cleaned_dataset.csv\", index=False)\n",
        "dataset = data_tweets"
      ],
      "metadata": {
        "id": "WGfJC1l97Bts"
      },
      "execution_count": null,
      "outputs": []
    },
    {
      "cell_type": "code",
      "source": [
        "print(data_tweets.head())"
      ],
      "metadata": {
        "colab": {
          "base_uri": "https://localhost:8080/"
        },
        "id": "ogr6jC_V8Mhv",
        "outputId": "e15ec3d3-a783-4ac3-e349-8320380c7ba8"
      },
      "execution_count": null,
      "outputs": [
        {
          "output_type": "stream",
          "name": "stdout",
          "text": [
            "   Id                                         Text Tweet Sentiment  \\\n",
            "0   1  Undang @N_ShaniJKT48 ke hitamputih, pemenang S...  positive   \n",
            "1   2  Selamat berbuka puasa Semoga amal ibadah hari ...  positive   \n",
            "2   3  Ada nih di trans7 hitam putih, dia dpt penghar...  positive   \n",
            "3   4        selamat ya mas @adietaufan masuk hitamputih  positive   \n",
            "4   5                  Asiknya nonton Hitam Putih Trans7  positive   \n",
            "\n",
            "                                       Cleaned_Tweet  \n",
            "0  undang ke hitamputih pemenang ssk jkt48 harusn...  \n",
            "1  selamat berbuka puasa semoga amal ibadah hari ...  \n",
            "2  ada nih di trans7 hitam putih dia dpt pengharg...  \n",
            "3                    selamat ya mas masuk hitamputih  \n",
            "4                  asiknya nonton hitam putih trans7  \n"
          ]
        }
      ]
    },
    {
      "cell_type": "code",
      "source": [
        "print(dataset.head())"
      ],
      "metadata": {
        "colab": {
          "base_uri": "https://localhost:8080/"
        },
        "id": "KPw9ILcX8h5c",
        "outputId": "1d906de4-ce32-45a6-a66b-f7a264f27058"
      },
      "execution_count": null,
      "outputs": [
        {
          "output_type": "stream",
          "name": "stdout",
          "text": [
            "   Id                                         Text Tweet Sentiment  \\\n",
            "0   1  Undang @N_ShaniJKT48 ke hitamputih, pemenang S...  positive   \n",
            "1   2  Selamat berbuka puasa Semoga amal ibadah hari ...  positive   \n",
            "2   3  Ada nih di trans7 hitam putih, dia dpt penghar...  positive   \n",
            "3   4        selamat ya mas @adietaufan masuk hitamputih  positive   \n",
            "4   5                  Asiknya nonton Hitam Putih Trans7  positive   \n",
            "\n",
            "                                       Cleaned_Tweet  \n",
            "0  undang ke hitamputih pemenang ssk jkt48 harusn...  \n",
            "1  selamat berbuka puasa semoga amal ibadah hari ...  \n",
            "2  ada nih di trans7 hitam putih dia dpt pengharg...  \n",
            "3                    selamat ya mas masuk hitamputih  \n",
            "4                  asiknya nonton hitam putih trans7  \n"
          ]
        }
      ]
    },
    {
      "cell_type": "markdown",
      "source": [
        "**Data Distribution**"
      ],
      "metadata": {
        "id": "GMiRKXLu9JV1"
      }
    },
    {
      "cell_type": "code",
      "source": [
        "print(dataset['Sentiment'].value_counts())\n"
      ],
      "metadata": {
        "colab": {
          "base_uri": "https://localhost:8080/"
        },
        "id": "j1zL6EC582ML",
        "outputId": "831e08fc-68a0-429f-fdba-de15d0f50732"
      },
      "execution_count": null,
      "outputs": [
        {
          "output_type": "stream",
          "name": "stdout",
          "text": [
            "Sentiment\n",
            "negative    911\n",
            "positive    889\n",
            "Name: count, dtype: int64\n"
          ]
        }
      ]
    },
    {
      "cell_type": "markdown",
      "source": [
        "**Feature extraction**"
      ],
      "metadata": {
        "id": "PHPLVLtq9oXL"
      }
    },
    {
      "cell_type": "code",
      "source": [
        "from sklearn.feature_extraction.text import CountVectorizer\n",
        "\n",
        "vectorizer = CountVectorizer()\n",
        "X = vectorizer.fit_transform(dataset['Cleaned_Tweet'])"
      ],
      "metadata": {
        "id": "5weAnPJY9W-g"
      },
      "execution_count": null,
      "outputs": []
    },
    {
      "cell_type": "code",
      "source": [
        "from sklearn.feature_extraction.text import TfidfVectorizer\n",
        "\n",
        "tfidf = TfidfVectorizer()\n",
        "X = tfidf.fit_transform(dataset['Cleaned_Tweet'])\n"
      ],
      "metadata": {
        "id": "YgmkONT09sRX"
      },
      "execution_count": null,
      "outputs": []
    },
    {
      "cell_type": "code",
      "source": [
        "from sklearn.model_selection import train_test_split\n",
        "\n",
        "X_train, X_test, y_train, y_test = train_test_split(X, dataset['Sentiment'], test_size=0.2, random_state=42)\n"
      ],
      "metadata": {
        "id": "NRZb5kUH93LH"
      },
      "execution_count": null,
      "outputs": []
    },
    {
      "cell_type": "code",
      "source": [
        "from sklearn.naive_bayes import MultinomialNB\n",
        "\n",
        "model = MultinomialNB()\n",
        "model.fit(X_train, y_train)"
      ],
      "metadata": {
        "colab": {
          "base_uri": "https://localhost:8080/",
          "height": 80
        },
        "id": "jKkRXG1H-Amz",
        "outputId": "01004016-58bc-47a2-e419-06002333330b"
      },
      "execution_count": null,
      "outputs": [
        {
          "output_type": "execute_result",
          "data": {
            "text/plain": [
              "MultinomialNB()"
            ],
            "text/html": [
              "<style>#sk-container-id-1 {\n",
              "  /* Definition of color scheme common for light and dark mode */\n",
              "  --sklearn-color-text: #000;\n",
              "  --sklearn-color-text-muted: #666;\n",
              "  --sklearn-color-line: gray;\n",
              "  /* Definition of color scheme for unfitted estimators */\n",
              "  --sklearn-color-unfitted-level-0: #fff5e6;\n",
              "  --sklearn-color-unfitted-level-1: #f6e4d2;\n",
              "  --sklearn-color-unfitted-level-2: #ffe0b3;\n",
              "  --sklearn-color-unfitted-level-3: chocolate;\n",
              "  /* Definition of color scheme for fitted estimators */\n",
              "  --sklearn-color-fitted-level-0: #f0f8ff;\n",
              "  --sklearn-color-fitted-level-1: #d4ebff;\n",
              "  --sklearn-color-fitted-level-2: #b3dbfd;\n",
              "  --sklearn-color-fitted-level-3: cornflowerblue;\n",
              "\n",
              "  /* Specific color for light theme */\n",
              "  --sklearn-color-text-on-default-background: var(--sg-text-color, var(--theme-code-foreground, var(--jp-content-font-color1, black)));\n",
              "  --sklearn-color-background: var(--sg-background-color, var(--theme-background, var(--jp-layout-color0, white)));\n",
              "  --sklearn-color-border-box: var(--sg-text-color, var(--theme-code-foreground, var(--jp-content-font-color1, black)));\n",
              "  --sklearn-color-icon: #696969;\n",
              "\n",
              "  @media (prefers-color-scheme: dark) {\n",
              "    /* Redefinition of color scheme for dark theme */\n",
              "    --sklearn-color-text-on-default-background: var(--sg-text-color, var(--theme-code-foreground, var(--jp-content-font-color1, white)));\n",
              "    --sklearn-color-background: var(--sg-background-color, var(--theme-background, var(--jp-layout-color0, #111)));\n",
              "    --sklearn-color-border-box: var(--sg-text-color, var(--theme-code-foreground, var(--jp-content-font-color1, white)));\n",
              "    --sklearn-color-icon: #878787;\n",
              "  }\n",
              "}\n",
              "\n",
              "#sk-container-id-1 {\n",
              "  color: var(--sklearn-color-text);\n",
              "}\n",
              "\n",
              "#sk-container-id-1 pre {\n",
              "  padding: 0;\n",
              "}\n",
              "\n",
              "#sk-container-id-1 input.sk-hidden--visually {\n",
              "  border: 0;\n",
              "  clip: rect(1px 1px 1px 1px);\n",
              "  clip: rect(1px, 1px, 1px, 1px);\n",
              "  height: 1px;\n",
              "  margin: -1px;\n",
              "  overflow: hidden;\n",
              "  padding: 0;\n",
              "  position: absolute;\n",
              "  width: 1px;\n",
              "}\n",
              "\n",
              "#sk-container-id-1 div.sk-dashed-wrapped {\n",
              "  border: 1px dashed var(--sklearn-color-line);\n",
              "  margin: 0 0.4em 0.5em 0.4em;\n",
              "  box-sizing: border-box;\n",
              "  padding-bottom: 0.4em;\n",
              "  background-color: var(--sklearn-color-background);\n",
              "}\n",
              "\n",
              "#sk-container-id-1 div.sk-container {\n",
              "  /* jupyter's `normalize.less` sets `[hidden] { display: none; }`\n",
              "     but bootstrap.min.css set `[hidden] { display: none !important; }`\n",
              "     so we also need the `!important` here to be able to override the\n",
              "     default hidden behavior on the sphinx rendered scikit-learn.org.\n",
              "     See: https://github.com/scikit-learn/scikit-learn/issues/21755 */\n",
              "  display: inline-block !important;\n",
              "  position: relative;\n",
              "}\n",
              "\n",
              "#sk-container-id-1 div.sk-text-repr-fallback {\n",
              "  display: none;\n",
              "}\n",
              "\n",
              "div.sk-parallel-item,\n",
              "div.sk-serial,\n",
              "div.sk-item {\n",
              "  /* draw centered vertical line to link estimators */\n",
              "  background-image: linear-gradient(var(--sklearn-color-text-on-default-background), var(--sklearn-color-text-on-default-background));\n",
              "  background-size: 2px 100%;\n",
              "  background-repeat: no-repeat;\n",
              "  background-position: center center;\n",
              "}\n",
              "\n",
              "/* Parallel-specific style estimator block */\n",
              "\n",
              "#sk-container-id-1 div.sk-parallel-item::after {\n",
              "  content: \"\";\n",
              "  width: 100%;\n",
              "  border-bottom: 2px solid var(--sklearn-color-text-on-default-background);\n",
              "  flex-grow: 1;\n",
              "}\n",
              "\n",
              "#sk-container-id-1 div.sk-parallel {\n",
              "  display: flex;\n",
              "  align-items: stretch;\n",
              "  justify-content: center;\n",
              "  background-color: var(--sklearn-color-background);\n",
              "  position: relative;\n",
              "}\n",
              "\n",
              "#sk-container-id-1 div.sk-parallel-item {\n",
              "  display: flex;\n",
              "  flex-direction: column;\n",
              "}\n",
              "\n",
              "#sk-container-id-1 div.sk-parallel-item:first-child::after {\n",
              "  align-self: flex-end;\n",
              "  width: 50%;\n",
              "}\n",
              "\n",
              "#sk-container-id-1 div.sk-parallel-item:last-child::after {\n",
              "  align-self: flex-start;\n",
              "  width: 50%;\n",
              "}\n",
              "\n",
              "#sk-container-id-1 div.sk-parallel-item:only-child::after {\n",
              "  width: 0;\n",
              "}\n",
              "\n",
              "/* Serial-specific style estimator block */\n",
              "\n",
              "#sk-container-id-1 div.sk-serial {\n",
              "  display: flex;\n",
              "  flex-direction: column;\n",
              "  align-items: center;\n",
              "  background-color: var(--sklearn-color-background);\n",
              "  padding-right: 1em;\n",
              "  padding-left: 1em;\n",
              "}\n",
              "\n",
              "\n",
              "/* Toggleable style: style used for estimator/Pipeline/ColumnTransformer box that is\n",
              "clickable and can be expanded/collapsed.\n",
              "- Pipeline and ColumnTransformer use this feature and define the default style\n",
              "- Estimators will overwrite some part of the style using the `sk-estimator` class\n",
              "*/\n",
              "\n",
              "/* Pipeline and ColumnTransformer style (default) */\n",
              "\n",
              "#sk-container-id-1 div.sk-toggleable {\n",
              "  /* Default theme specific background. It is overwritten whether we have a\n",
              "  specific estimator or a Pipeline/ColumnTransformer */\n",
              "  background-color: var(--sklearn-color-background);\n",
              "}\n",
              "\n",
              "/* Toggleable label */\n",
              "#sk-container-id-1 label.sk-toggleable__label {\n",
              "  cursor: pointer;\n",
              "  display: flex;\n",
              "  width: 100%;\n",
              "  margin-bottom: 0;\n",
              "  padding: 0.5em;\n",
              "  box-sizing: border-box;\n",
              "  text-align: center;\n",
              "  align-items: start;\n",
              "  justify-content: space-between;\n",
              "  gap: 0.5em;\n",
              "}\n",
              "\n",
              "#sk-container-id-1 label.sk-toggleable__label .caption {\n",
              "  font-size: 0.6rem;\n",
              "  font-weight: lighter;\n",
              "  color: var(--sklearn-color-text-muted);\n",
              "}\n",
              "\n",
              "#sk-container-id-1 label.sk-toggleable__label-arrow:before {\n",
              "  /* Arrow on the left of the label */\n",
              "  content: \"▸\";\n",
              "  float: left;\n",
              "  margin-right: 0.25em;\n",
              "  color: var(--sklearn-color-icon);\n",
              "}\n",
              "\n",
              "#sk-container-id-1 label.sk-toggleable__label-arrow:hover:before {\n",
              "  color: var(--sklearn-color-text);\n",
              "}\n",
              "\n",
              "/* Toggleable content - dropdown */\n",
              "\n",
              "#sk-container-id-1 div.sk-toggleable__content {\n",
              "  max-height: 0;\n",
              "  max-width: 0;\n",
              "  overflow: hidden;\n",
              "  text-align: left;\n",
              "  /* unfitted */\n",
              "  background-color: var(--sklearn-color-unfitted-level-0);\n",
              "}\n",
              "\n",
              "#sk-container-id-1 div.sk-toggleable__content.fitted {\n",
              "  /* fitted */\n",
              "  background-color: var(--sklearn-color-fitted-level-0);\n",
              "}\n",
              "\n",
              "#sk-container-id-1 div.sk-toggleable__content pre {\n",
              "  margin: 0.2em;\n",
              "  border-radius: 0.25em;\n",
              "  color: var(--sklearn-color-text);\n",
              "  /* unfitted */\n",
              "  background-color: var(--sklearn-color-unfitted-level-0);\n",
              "}\n",
              "\n",
              "#sk-container-id-1 div.sk-toggleable__content.fitted pre {\n",
              "  /* unfitted */\n",
              "  background-color: var(--sklearn-color-fitted-level-0);\n",
              "}\n",
              "\n",
              "#sk-container-id-1 input.sk-toggleable__control:checked~div.sk-toggleable__content {\n",
              "  /* Expand drop-down */\n",
              "  max-height: 200px;\n",
              "  max-width: 100%;\n",
              "  overflow: auto;\n",
              "}\n",
              "\n",
              "#sk-container-id-1 input.sk-toggleable__control:checked~label.sk-toggleable__label-arrow:before {\n",
              "  content: \"▾\";\n",
              "}\n",
              "\n",
              "/* Pipeline/ColumnTransformer-specific style */\n",
              "\n",
              "#sk-container-id-1 div.sk-label input.sk-toggleable__control:checked~label.sk-toggleable__label {\n",
              "  color: var(--sklearn-color-text);\n",
              "  background-color: var(--sklearn-color-unfitted-level-2);\n",
              "}\n",
              "\n",
              "#sk-container-id-1 div.sk-label.fitted input.sk-toggleable__control:checked~label.sk-toggleable__label {\n",
              "  background-color: var(--sklearn-color-fitted-level-2);\n",
              "}\n",
              "\n",
              "/* Estimator-specific style */\n",
              "\n",
              "/* Colorize estimator box */\n",
              "#sk-container-id-1 div.sk-estimator input.sk-toggleable__control:checked~label.sk-toggleable__label {\n",
              "  /* unfitted */\n",
              "  background-color: var(--sklearn-color-unfitted-level-2);\n",
              "}\n",
              "\n",
              "#sk-container-id-1 div.sk-estimator.fitted input.sk-toggleable__control:checked~label.sk-toggleable__label {\n",
              "  /* fitted */\n",
              "  background-color: var(--sklearn-color-fitted-level-2);\n",
              "}\n",
              "\n",
              "#sk-container-id-1 div.sk-label label.sk-toggleable__label,\n",
              "#sk-container-id-1 div.sk-label label {\n",
              "  /* The background is the default theme color */\n",
              "  color: var(--sklearn-color-text-on-default-background);\n",
              "}\n",
              "\n",
              "/* On hover, darken the color of the background */\n",
              "#sk-container-id-1 div.sk-label:hover label.sk-toggleable__label {\n",
              "  color: var(--sklearn-color-text);\n",
              "  background-color: var(--sklearn-color-unfitted-level-2);\n",
              "}\n",
              "\n",
              "/* Label box, darken color on hover, fitted */\n",
              "#sk-container-id-1 div.sk-label.fitted:hover label.sk-toggleable__label.fitted {\n",
              "  color: var(--sklearn-color-text);\n",
              "  background-color: var(--sklearn-color-fitted-level-2);\n",
              "}\n",
              "\n",
              "/* Estimator label */\n",
              "\n",
              "#sk-container-id-1 div.sk-label label {\n",
              "  font-family: monospace;\n",
              "  font-weight: bold;\n",
              "  display: inline-block;\n",
              "  line-height: 1.2em;\n",
              "}\n",
              "\n",
              "#sk-container-id-1 div.sk-label-container {\n",
              "  text-align: center;\n",
              "}\n",
              "\n",
              "/* Estimator-specific */\n",
              "#sk-container-id-1 div.sk-estimator {\n",
              "  font-family: monospace;\n",
              "  border: 1px dotted var(--sklearn-color-border-box);\n",
              "  border-radius: 0.25em;\n",
              "  box-sizing: border-box;\n",
              "  margin-bottom: 0.5em;\n",
              "  /* unfitted */\n",
              "  background-color: var(--sklearn-color-unfitted-level-0);\n",
              "}\n",
              "\n",
              "#sk-container-id-1 div.sk-estimator.fitted {\n",
              "  /* fitted */\n",
              "  background-color: var(--sklearn-color-fitted-level-0);\n",
              "}\n",
              "\n",
              "/* on hover */\n",
              "#sk-container-id-1 div.sk-estimator:hover {\n",
              "  /* unfitted */\n",
              "  background-color: var(--sklearn-color-unfitted-level-2);\n",
              "}\n",
              "\n",
              "#sk-container-id-1 div.sk-estimator.fitted:hover {\n",
              "  /* fitted */\n",
              "  background-color: var(--sklearn-color-fitted-level-2);\n",
              "}\n",
              "\n",
              "/* Specification for estimator info (e.g. \"i\" and \"?\") */\n",
              "\n",
              "/* Common style for \"i\" and \"?\" */\n",
              "\n",
              ".sk-estimator-doc-link,\n",
              "a:link.sk-estimator-doc-link,\n",
              "a:visited.sk-estimator-doc-link {\n",
              "  float: right;\n",
              "  font-size: smaller;\n",
              "  line-height: 1em;\n",
              "  font-family: monospace;\n",
              "  background-color: var(--sklearn-color-background);\n",
              "  border-radius: 1em;\n",
              "  height: 1em;\n",
              "  width: 1em;\n",
              "  text-decoration: none !important;\n",
              "  margin-left: 0.5em;\n",
              "  text-align: center;\n",
              "  /* unfitted */\n",
              "  border: var(--sklearn-color-unfitted-level-1) 1pt solid;\n",
              "  color: var(--sklearn-color-unfitted-level-1);\n",
              "}\n",
              "\n",
              ".sk-estimator-doc-link.fitted,\n",
              "a:link.sk-estimator-doc-link.fitted,\n",
              "a:visited.sk-estimator-doc-link.fitted {\n",
              "  /* fitted */\n",
              "  border: var(--sklearn-color-fitted-level-1) 1pt solid;\n",
              "  color: var(--sklearn-color-fitted-level-1);\n",
              "}\n",
              "\n",
              "/* On hover */\n",
              "div.sk-estimator:hover .sk-estimator-doc-link:hover,\n",
              ".sk-estimator-doc-link:hover,\n",
              "div.sk-label-container:hover .sk-estimator-doc-link:hover,\n",
              ".sk-estimator-doc-link:hover {\n",
              "  /* unfitted */\n",
              "  background-color: var(--sklearn-color-unfitted-level-3);\n",
              "  color: var(--sklearn-color-background);\n",
              "  text-decoration: none;\n",
              "}\n",
              "\n",
              "div.sk-estimator.fitted:hover .sk-estimator-doc-link.fitted:hover,\n",
              ".sk-estimator-doc-link.fitted:hover,\n",
              "div.sk-label-container:hover .sk-estimator-doc-link.fitted:hover,\n",
              ".sk-estimator-doc-link.fitted:hover {\n",
              "  /* fitted */\n",
              "  background-color: var(--sklearn-color-fitted-level-3);\n",
              "  color: var(--sklearn-color-background);\n",
              "  text-decoration: none;\n",
              "}\n",
              "\n",
              "/* Span, style for the box shown on hovering the info icon */\n",
              ".sk-estimator-doc-link span {\n",
              "  display: none;\n",
              "  z-index: 9999;\n",
              "  position: relative;\n",
              "  font-weight: normal;\n",
              "  right: .2ex;\n",
              "  padding: .5ex;\n",
              "  margin: .5ex;\n",
              "  width: min-content;\n",
              "  min-width: 20ex;\n",
              "  max-width: 50ex;\n",
              "  color: var(--sklearn-color-text);\n",
              "  box-shadow: 2pt 2pt 4pt #999;\n",
              "  /* unfitted */\n",
              "  background: var(--sklearn-color-unfitted-level-0);\n",
              "  border: .5pt solid var(--sklearn-color-unfitted-level-3);\n",
              "}\n",
              "\n",
              ".sk-estimator-doc-link.fitted span {\n",
              "  /* fitted */\n",
              "  background: var(--sklearn-color-fitted-level-0);\n",
              "  border: var(--sklearn-color-fitted-level-3);\n",
              "}\n",
              "\n",
              ".sk-estimator-doc-link:hover span {\n",
              "  display: block;\n",
              "}\n",
              "\n",
              "/* \"?\"-specific style due to the `<a>` HTML tag */\n",
              "\n",
              "#sk-container-id-1 a.estimator_doc_link {\n",
              "  float: right;\n",
              "  font-size: 1rem;\n",
              "  line-height: 1em;\n",
              "  font-family: monospace;\n",
              "  background-color: var(--sklearn-color-background);\n",
              "  border-radius: 1rem;\n",
              "  height: 1rem;\n",
              "  width: 1rem;\n",
              "  text-decoration: none;\n",
              "  /* unfitted */\n",
              "  color: var(--sklearn-color-unfitted-level-1);\n",
              "  border: var(--sklearn-color-unfitted-level-1) 1pt solid;\n",
              "}\n",
              "\n",
              "#sk-container-id-1 a.estimator_doc_link.fitted {\n",
              "  /* fitted */\n",
              "  border: var(--sklearn-color-fitted-level-1) 1pt solid;\n",
              "  color: var(--sklearn-color-fitted-level-1);\n",
              "}\n",
              "\n",
              "/* On hover */\n",
              "#sk-container-id-1 a.estimator_doc_link:hover {\n",
              "  /* unfitted */\n",
              "  background-color: var(--sklearn-color-unfitted-level-3);\n",
              "  color: var(--sklearn-color-background);\n",
              "  text-decoration: none;\n",
              "}\n",
              "\n",
              "#sk-container-id-1 a.estimator_doc_link.fitted:hover {\n",
              "  /* fitted */\n",
              "  background-color: var(--sklearn-color-fitted-level-3);\n",
              "}\n",
              "</style><div id=\"sk-container-id-1\" class=\"sk-top-container\"><div class=\"sk-text-repr-fallback\"><pre>MultinomialNB()</pre><b>In a Jupyter environment, please rerun this cell to show the HTML representation or trust the notebook. <br />On GitHub, the HTML representation is unable to render, please try loading this page with nbviewer.org.</b></div><div class=\"sk-container\" hidden><div class=\"sk-item\"><div class=\"sk-estimator fitted sk-toggleable\"><input class=\"sk-toggleable__control sk-hidden--visually\" id=\"sk-estimator-id-1\" type=\"checkbox\" checked><label for=\"sk-estimator-id-1\" class=\"sk-toggleable__label fitted sk-toggleable__label-arrow\"><div><div>MultinomialNB</div></div><div><a class=\"sk-estimator-doc-link fitted\" rel=\"noreferrer\" target=\"_blank\" href=\"https://scikit-learn.org/1.6/modules/generated/sklearn.naive_bayes.MultinomialNB.html\">?<span>Documentation for MultinomialNB</span></a><span class=\"sk-estimator-doc-link fitted\">i<span>Fitted</span></span></div></label><div class=\"sk-toggleable__content fitted\"><pre>MultinomialNB()</pre></div> </div></div></div></div>"
            ]
          },
          "metadata": {},
          "execution_count": 21
        }
      ]
    },
    {
      "cell_type": "code",
      "source": [
        "from sklearn.metrics import classification_report\n",
        "\n",
        "y_pred = model.predict(X_test)\n",
        "print(classification_report(y_test, y_pred))\n"
      ],
      "metadata": {
        "colab": {
          "base_uri": "https://localhost:8080/"
        },
        "id": "Px_5kmnU-DPU",
        "outputId": "4cbdc69c-83be-4262-86e0-0525f1f8946b"
      },
      "execution_count": null,
      "outputs": [
        {
          "output_type": "stream",
          "name": "stdout",
          "text": [
            "              precision    recall  f1-score   support\n",
            "\n",
            "    negative       0.87      0.76      0.81       187\n",
            "    positive       0.77      0.88      0.82       173\n",
            "\n",
            "    accuracy                           0.82       360\n",
            "   macro avg       0.82      0.82      0.82       360\n",
            "weighted avg       0.82      0.82      0.82       360\n",
            "\n"
          ]
        }
      ]
    },
    {
      "cell_type": "markdown",
      "source": [
        "**Sentiment Analysis on 'Makan Bergizi Gratis' Program**"
      ],
      "metadata": {
        "id": "l_xEX29--MT5"
      }
    },
    {
      "cell_type": "code",
      "source": [
        "import pandas as pd\n",
        "\n",
        "# Load the cleaned tweets CSV\n",
        "tweets_df = pd.read_csv(\"cleaned_scrapped_tweets.csv\", delimiter=',')\n",
        "\n",
        "# Display the first few rows to check the data\n",
        "print(tweets_df.head())"
      ],
      "metadata": {
        "id": "ZGnrLPFB-Fsx",
        "colab": {
          "base_uri": "https://localhost:8080/"
        },
        "outputId": "a75b814e-93de-4741-b0c8-7a04a510d24a"
      },
      "execution_count": null,
      "outputs": [
        {
          "output_type": "stream",
          "name": "stdout",
          "text": [
            "              Tweet ID                                               Text  \\\n",
            "0  1880816057373675642  Mari Dukung dan Sukseskan Program Makan Bergiz...   \n",
            "1  1880816034715935156  RT @NewTread_: Jadi ini video yang buat kontro...   \n",
            "2  1880816031314444424  Mari Dukung dan Sukseskan Program Makan Bergiz...   \n",
            "3  1880816004231839969  Mari Dukung dan Sukseskan Program Makan Bergiz...   \n",
            "4  1880815973571399894  RT @anasurbaningrum: Ada anak komentar soal ra...   \n",
            "\n",
            "                                       Cleaned_Tweet  \n",
            "0  mari dukung dan sukseskan program makan bergiz...  \n",
            "1  jadi ini video yang buat kontroversi makan ber...  \n",
            "2  mari dukung dan sukseskan program makan bergiz...  \n",
            "3  mari dukung dan sukseskan program makan bergiz...  \n",
            "4  ada anak komentar soal rasa menu makan gratis ...  \n"
          ]
        }
      ]
    },
    {
      "cell_type": "code",
      "source": [
        "from sklearn.feature_extraction.text import TfidfVectorizer\n",
        "from sklearn.naive_bayes import MultinomialNB\n",
        "import numpy as np\n",
        "\n",
        "# Load pre-trained vectorizer and model\n",
        "# Assuming 'dataset' contains your training data\n",
        "vectorizer = TfidfVectorizer()\n",
        "vectorizer.fit(dataset['Cleaned_Tweet'])  # Fit the vectorizer to your training data\n",
        "\n",
        "model = MultinomialNB()\n",
        "# Fit the model to your training data\n",
        "# Assuming X_train and y_train are your training features and labels\n",
        "model.fit(X_train, y_train) # This line is added to fit the model\n",
        "\n",
        "# Apply the vectorizer to the Cleaned_Tweet column\n",
        "X = vectorizer.transform(tweets_df['Cleaned_Tweet'])"
      ],
      "metadata": {
        "id": "0F33pqdMJUpq"
      },
      "execution_count": null,
      "outputs": []
    },
    {
      "cell_type": "code",
      "source": [
        "# Predict sentiment (positive=1, negative=0)\n",
        "predictions = model.predict(X)\n",
        "\n",
        "# Add the predictions to the DataFrame (you can choose sentiment labels like \"positive\" or \"negative\")\n",
        "tweets_df['Sentiment'] = ['Positive' if pred == 1 else 'Negative' for pred in predictions]\n",
        "\n",
        "# Check the updated DataFrame\n",
        "# print(tweets_df.head())\n",
        "\n",
        "#Save results\n",
        "tweets_df.to_csv(\"tweets_sentiment_results.csv\", index=False)\n"
      ],
      "metadata": {
        "id": "gferv6mkJouV"
      },
      "execution_count": null,
      "outputs": []
    },
    {
      "cell_type": "markdown",
      "source": [
        "**Summary Result**"
      ],
      "metadata": {
        "id": "oez6XJq3Jw0N"
      }
    },
    {
      "cell_type": "code",
      "source": [
        "# Assuming probabilities are from model.predict_proba(X)\n",
        "probabilities = model.predict_proba(X)  # X is the vectorized data\n",
        "predictions = [1 if prob[1] > 0.7 else 0 for prob in probabilities]\n",
        "tweets_df['Sentiment'] = ['Positive' if pred == 1 else 'Negative' for pred in predictions]\n",
        "print(tweets_df['Sentiment'].value_counts())\n"
      ],
      "metadata": {
        "colab": {
          "base_uri": "https://localhost:8080/"
        },
        "id": "twC_IX5nSd_O",
        "outputId": "6ff74aed-05e7-49fc-a38f-e6a55cef73eb"
      },
      "execution_count": null,
      "outputs": [
        {
          "output_type": "stream",
          "name": "stdout",
          "text": [
            "Sentiment\n",
            "Negative    58\n",
            "Positive    42\n",
            "Name: count, dtype: int64\n"
          ]
        }
      ]
    },
    {
      "cell_type": "code",
      "source": [
        "import matplotlib.pyplot as plt\n",
        "\n",
        "# Define improved colors\n",
        "red_color = \"#D9534F\"  # Soft red\n",
        "green_color = \"#5CB85C\"  # Soft green\n",
        "\n",
        "# Sort sentiment counts to ensure \"Positive\" comes first\n",
        "sentiment_counts = tweets_df['Sentiment'].value_counts()\n",
        "sentiment_counts = sentiment_counts[['Positive', 'Negative']]  # Reorder explicitly\n",
        "\n",
        "# Bar chart of sentiment counts\n",
        "sentiment_counts.plot(kind='bar', color=[green_color, red_color])  # Green for Positive, Red for Negative\n",
        "plt.title('Sentiment Distribution', fontsize=14)\n",
        "plt.xlabel('Sentiment', fontsize=12)\n",
        "plt.ylabel('Count', fontsize=12)\n",
        "plt.xticks(rotation=0, fontsize=10)\n",
        "plt.yticks(fontsize=10)\n",
        "plt.grid(axis='y', linestyle='--', alpha=0.7)\n",
        "plt.show()\n",
        "\n",
        "# Pie chart of sentiment percentages\n",
        "sentiment_counts_normalized = sentiment_counts / sentiment_counts.sum()\n",
        "sentiment_counts_normalized.plot(\n",
        "    kind='pie',\n",
        "    autopct='%1.1f%%',\n",
        "    colors=[green_color, red_color],\n",
        "    startangle=90,\n",
        "    textprops={'fontsize': 10}\n",
        ")\n",
        "plt.title('Sentiment Percentage', fontsize=14)\n",
        "plt.ylabel('')\n",
        "plt.show()\n"
      ],
      "metadata": {
        "colab": {
          "base_uri": "https://localhost:8080/",
          "height": 889
        },
        "id": "CaFkBJceVDnD",
        "outputId": "b763e9e5-d4e4-4917-c367-1ed6075e14ab"
      },
      "execution_count": null,
      "outputs": [
        {
          "output_type": "display_data",
          "data": {
            "text/plain": [
              "<Figure size 640x480 with 1 Axes>"
            ],
            "image/png": "[encoded data removed]"
          },
          "metadata": {}
        },
        {
          "output_type": "display_data",
          "data": {
            "text/plain": [
              "<Figure size 640x480 with 1 Axes>"
            ],
            "image/png": "[encoded data removed]"
          },
          "metadata": {}
        }
      ]
    },
    {
      "cell_type": "markdown",
      "source": [
        "\n",
        "From the pie chart in the image, the conclusion would be:\n",
        "\n",
        "*   The sentiment distribution shows that 42% of the tweets are positive, while 58% are negative.\n",
        "*   This indicates that the overall sentiment is more negative than positive for the analyzed tweets."
      ],
      "metadata": {
        "id": "KNLxRuRcWb9s"
      }
    }
  ]
}